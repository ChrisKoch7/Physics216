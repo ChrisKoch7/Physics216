{
 "cells": [
  {
   "cell_type": "code",
   "execution_count": 1,
   "id": "59b25ad1",
   "metadata": {},
   "outputs": [
    {
     "name": "stdout",
     "output_type": "stream",
     "text": [
      "c= 205.2\n"
     ]
    }
   ],
   "source": [
    "import numpy as np\n",
    "\n",
    "def fred(a,b):\n",
    "    c=(a+b)*12\n",
    "    return c\n",
    "a=13.2\n",
    "b=3.9\n",
    "\n",
    "c=fred(a,b)\n",
    "\n",
    "print(\"c=\",c)"
   ]
  },
  {
   "cell_type": "code",
   "execution_count": 4,
   "id": "18a48e0d",
   "metadata": {},
   "outputs": [
    {
     "name": "stdout",
     "output_type": "stream",
     "text": [
      "dtotal= 1.3\n",
      "errdtotal= 0.0007071067811865475\n"
     ]
    }
   ],
   "source": [
    "import numpy as np\n",
    "\n",
    "def rule3(da,db):\n",
    "    dQ=np.sqrt(da**2+db**2)\n",
    "    return dQ\n",
    "d1=1.0\n",
    "d2=0.3\n",
    "errd1=.0005\n",
    "errd2=.0005\n",
    "dtotal=d1+d2\n",
    "errdtotal=rule3(errd1,errd2)\n",
    "print(\"dtotal=\",dtotal)\n",
    "print(\"errdtotal=\",errdtotal)"
   ]
  },
  {
   "cell_type": "code",
   "execution_count": 5,
   "id": "6e204cf5",
   "metadata": {},
   "outputs": [
    {
     "name": "stdout",
     "output_type": "stream",
     "text": [
      "3.042857142857143\n",
      "1.622922533893842\n"
     ]
    }
   ],
   "source": [
    "x= np.array([1,2,3,4,5,5.2, 1.1])\n",
    "xmean=np.average(x)\n",
    "xstdev=np.std(x)\n",
    "print(xmean)\n",
    "print(xstdev)"
   ]
  },
  {
   "cell_type": "code",
   "execution_count": 3,
   "id": "bcdb223d",
   "metadata": {},
   "outputs": [
    {
     "name": "stdout",
     "output_type": "stream",
     "text": [
      "dQ= 0.0025\n"
     ]
    }
   ],
   "source": [
    "import numpy as np\n",
    "\n",
    "def rule1(erra,c):\n",
    "    dQ=c*erra\n",
    "    return dQ\n",
    "c=5\n",
    "erra=.0005\n",
    "dQ=rule1(erra,c)\n",
    "print(\"dQ=\",dQ)"
   ]
  },
  {
   "cell_type": "code",
   "execution_count": 5,
   "id": "2b902cbe",
   "metadata": {},
   "outputs": [
    {
     "name": "stdout",
     "output_type": "stream",
     "text": [
      "dQ= 0.32\n"
     ]
    }
   ],
   "source": [
    "import numpy as np\n",
    "\n",
    "def rule2(m,c,A,erra):\n",
    "    dQ=(c*m*A**(m-1))*errA\n",
    "    return dQ\n",
    "m=2\n",
    "c=5\n",
    "A=3.2\n",
    "errA=.01\n",
    "dQ=rule2(m,c,A,errA)\n",
    "print(\"dQ=\",dQ)"
   ]
  },
  {
   "cell_type": "code",
   "execution_count": 18,
   "id": "e351764b",
   "metadata": {},
   "outputs": [
    {
     "name": "stdout",
     "output_type": "stream",
     "text": [
      "dQ= 0.020572001186724875\n"
     ]
    }
   ],
   "source": [
    "import numpy as np\n",
    "\n",
    "def rule4(A,n,B,m,Q,errA,errB):\n",
    "    dQ=(Q*(np.sqrt(m*(errA/A))**2+(n*(errB/B)**2)))\n",
    "    return dQ\n",
    "\n",
    "A=103.44\n",
    "n=-.5\n",
    "B=99\n",
    "m=1\n",
    "Q=2.3013\n",
    "errA=.926\n",
    "errB=.5\n",
    "dQ=rule4(A,n,B,m,Q,errA,errB)\n",
    "\n",
    "print(\"dQ=\",dQ)"
   ]
  },
  {
   "cell_type": "code",
   "execution_count": 19,
   "id": "306fbe50",
   "metadata": {},
   "outputs": [
    {
     "name": "stdout",
     "output_type": "stream",
     "text": [
      "1.1285714285714286\n",
      "0.16872874015739592\n"
     ]
    }
   ],
   "source": [
    "x= np.array([1.1,1.2,1.3,1.4,.9,.95,1.05])\n",
    "xmean=np.average(x)\n",
    "xstdev=np.std(x)\n",
    "print(xmean)\n",
    "print(xstdev)\n",
    "#The avergae value for data is 1.129 and the standard deviation for the data is 0.1687.# "
   ]
  },
  {
   "cell_type": "markdown",
   "id": "a395a65d",
   "metadata": {},
   "source": [
    "$\\delta Q=\\sqrt{(\\delta A)^2+(\\delta B)^2)}$\n",
    "\n",
    "$\\delta v_i=2.3013*\\sqrt{(\\frac{.926}{103.44})^2+(\\frac{(-.5*.1)}{99})^2}$"
   ]
  },
  {
   "cell_type": "code",
   "execution_count": null,
   "id": "f4309cab",
   "metadata": {},
   "outputs": [],
   "source": []
  }
 ],
 "metadata": {
  "kernelspec": {
   "display_name": "Python 3",
   "language": "python",
   "name": "python3"
  },
  "language_info": {
   "codemirror_mode": {
    "name": "ipython",
    "version": 3
   },
   "file_extension": ".py",
   "mimetype": "text/x-python",
   "name": "python",
   "nbconvert_exporter": "python",
   "pygments_lexer": "ipython3",
   "version": "3.8.8"
  }
 },
 "nbformat": 4,
 "nbformat_minor": 5
}
